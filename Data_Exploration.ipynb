{
 "cells": [
  {
   "cell_type": "markdown",
   "id": "e2c7b437-b6ae-4a58-aceb-6bcd29df2a1d",
   "metadata": {},
   "source": [
    "# BigMac Prices over the year\n",
    "### see how external forces effected the price of the BigMac, use as a directional factor for food price inflation"
   ]
  },
  {
   "cell_type": "markdown",
   "id": "c80af6da-d97c-43cb-9f0b-7d8887258e9d",
   "metadata": {},
   "source": [
    "- price of beef\n",
    "- price of wheat (bread for buns)\n",
    "- price of condiments\n",
    "\n",
    "- use bigmac prices in comparison to inflation in respective countries - is it a good signifying factor\n",
    "- are some countries more resilient to raise in food prices\n",
    "- are higher inflation in some countries effecting the rise in food of other countries "
   ]
  },
  {
   "cell_type": "code",
   "execution_count": 4,
   "id": "1b90b608-bd66-4330-960f-e48992dfca44",
   "metadata": {},
   "outputs": [],
   "source": [
    "import pandas as pd\n",
    "import numpy as np"
   ]
  },
  {
   "cell_type": "code",
   "execution_count": 8,
   "id": "c582cd28-4cf5-4f24-ab41-53f546869e1f",
   "metadata": {},
   "outputs": [],
   "source": [
    "bmprice = pd.read_csv('BigmacPrice.csv')"
   ]
  },
  {
   "cell_type": "code",
   "execution_count": 22,
   "id": "d10d2a21-716f-47d8-863e-ea29e0ad1fdf",
   "metadata": {},
   "outputs": [
    {
     "data": {
      "text/html": [
       "<div>\n",
       "<style scoped>\n",
       "    .dataframe tbody tr th:only-of-type {\n",
       "        vertical-align: middle;\n",
       "    }\n",
       "\n",
       "    .dataframe tbody tr th {\n",
       "        vertical-align: top;\n",
       "    }\n",
       "\n",
       "    .dataframe thead th {\n",
       "        text-align: right;\n",
       "    }\n",
       "</style>\n",
       "<table border=\"1\" class=\"dataframe\">\n",
       "  <thead>\n",
       "    <tr style=\"text-align: right;\">\n",
       "      <th></th>\n",
       "      <th>date</th>\n",
       "      <th>currency_code</th>\n",
       "      <th>name</th>\n",
       "      <th>local_price</th>\n",
       "      <th>dollar_ex</th>\n",
       "      <th>dollar_price</th>\n",
       "    </tr>\n",
       "  </thead>\n",
       "  <tbody>\n",
       "    <tr>\n",
       "      <th>0</th>\n",
       "      <td>2000-04-01</td>\n",
       "      <td>ARS</td>\n",
       "      <td>Argentina</td>\n",
       "      <td>2.50</td>\n",
       "      <td>1.00</td>\n",
       "      <td>2.500000</td>\n",
       "    </tr>\n",
       "    <tr>\n",
       "      <th>1</th>\n",
       "      <td>2000-04-01</td>\n",
       "      <td>AUD</td>\n",
       "      <td>Australia</td>\n",
       "      <td>2.59</td>\n",
       "      <td>1.68</td>\n",
       "      <td>1.541667</td>\n",
       "    </tr>\n",
       "    <tr>\n",
       "      <th>2</th>\n",
       "      <td>2000-04-01</td>\n",
       "      <td>BRL</td>\n",
       "      <td>Brazil</td>\n",
       "      <td>2.95</td>\n",
       "      <td>1.79</td>\n",
       "      <td>1.648045</td>\n",
       "    </tr>\n",
       "    <tr>\n",
       "      <th>3</th>\n",
       "      <td>2000-04-01</td>\n",
       "      <td>CAD</td>\n",
       "      <td>Canada</td>\n",
       "      <td>2.85</td>\n",
       "      <td>1.47</td>\n",
       "      <td>1.938776</td>\n",
       "    </tr>\n",
       "    <tr>\n",
       "      <th>4</th>\n",
       "      <td>2000-04-01</td>\n",
       "      <td>CHF</td>\n",
       "      <td>Switzerland</td>\n",
       "      <td>5.90</td>\n",
       "      <td>1.70</td>\n",
       "      <td>3.470588</td>\n",
       "    </tr>\n",
       "  </tbody>\n",
       "</table>\n",
       "</div>"
      ],
      "text/plain": [
       "         date currency_code         name  local_price  dollar_ex  dollar_price\n",
       "0  2000-04-01           ARS    Argentina         2.50       1.00      2.500000\n",
       "1  2000-04-01           AUD    Australia         2.59       1.68      1.541667\n",
       "2  2000-04-01           BRL       Brazil         2.95       1.79      1.648045\n",
       "3  2000-04-01           CAD       Canada         2.85       1.47      1.938776\n",
       "4  2000-04-01           CHF  Switzerland         5.90       1.70      3.470588"
      ]
     },
     "execution_count": 22,
     "metadata": {},
     "output_type": "execute_result"
    }
   ],
   "source": [
    "bmprice.head()"
   ]
  },
  {
   "cell_type": "code",
   "execution_count": 9,
   "id": "3a7a0fc7-3d71-4210-a188-e431642a3356",
   "metadata": {},
   "outputs": [
    {
     "data": {
      "text/plain": [
       "1330"
      ]
     },
     "execution_count": 9,
     "metadata": {},
     "output_type": "execute_result"
    }
   ],
   "source": [
    "len(bmprice)"
   ]
  },
  {
   "cell_type": "code",
   "execution_count": 11,
   "id": "99d148ef-b26e-4c9e-9f61-b7cabe80b4d2",
   "metadata": {},
   "outputs": [
    {
     "data": {
      "text/plain": [
       "date              object\n",
       "currency_code     object\n",
       "name              object\n",
       "local_price      float64\n",
       "dollar_ex        float64\n",
       "dollar_price     float64\n",
       "dtype: object"
      ]
     },
     "execution_count": 11,
     "metadata": {},
     "output_type": "execute_result"
    }
   ],
   "source": [
    "bmprice.dtypes"
   ]
  },
  {
   "cell_type": "code",
   "execution_count": 12,
   "id": "5bf71677-e929-49d2-9e02-9303178aef70",
   "metadata": {},
   "outputs": [],
   "source": [
    "currency = pd.unique(bmprice['currency_code'].values.ravel())"
   ]
  },
  {
   "cell_type": "code",
   "execution_count": 15,
   "id": "829995fc-545d-4c06-a870-541e4b1b6849",
   "metadata": {},
   "outputs": [
    {
     "data": {
      "text/plain": [
       "array(['ARS', 'AUD', 'BRL', 'CAD', 'CHF', 'CLP', 'CNY', 'CZK', 'DKK',\n",
       "       'EUR', 'GBP', 'HKD', 'HUF', 'IDR', 'ILS', 'JPY', 'KRW', 'MXN',\n",
       "       'MYR', 'NZD', 'PLN', 'RUB', 'SGD', 'SEK', 'THB', 'TWD', 'USD',\n",
       "       'ZAR', 'PHP', 'NOK', 'PEN', 'TRY', 'EGP', 'COP', 'CRC', 'LKR',\n",
       "       'PKR', 'SAR', 'UAH', 'UYU', 'AED', 'INR', 'VND', 'AZN', 'BHD',\n",
       "       'GTQ', 'HNL', 'HRK', 'JOD', 'KWD', 'LBP', 'MDL', 'NIO', 'OMR',\n",
       "       'QAR', 'RON'], dtype=object)"
      ]
     },
     "execution_count": 15,
     "metadata": {},
     "output_type": "execute_result"
    }
   ],
   "source": [
    "currency"
   ]
  },
  {
   "cell_type": "code",
   "execution_count": 17,
   "id": "798a95fb-7fc4-488f-ba51-3d07b5ffb2cb",
   "metadata": {},
   "outputs": [
    {
     "data": {
      "text/plain": [
       "56"
      ]
     },
     "execution_count": 17,
     "metadata": {},
     "output_type": "execute_result"
    }
   ],
   "source": [
    "len(currency)"
   ]
  },
  {
   "cell_type": "code",
   "execution_count": 18,
   "id": "0380c09e-7513-4872-a665-6060623932b9",
   "metadata": {},
   "outputs": [],
   "source": [
    "country = pd.unique(bmprice['name'].values.ravel())"
   ]
  },
  {
   "cell_type": "code",
   "execution_count": 20,
   "id": "c5b8baa3-20dd-4b42-bd74-442254e11871",
   "metadata": {},
   "outputs": [
    {
     "data": {
      "text/plain": [
       "array(['Argentina', 'Australia', 'Brazil', 'Canada', 'Switzerland',\n",
       "       'Chile', 'China', 'Czech Republic', 'Denmark', 'Euro area',\n",
       "       'Britain', 'Hong Kong', 'Hungary', 'Indonesia', 'Israel', 'Japan',\n",
       "       'South Korea', 'Mexico', 'Malaysia', 'New Zealand', 'Poland',\n",
       "       'Russia', 'Singapore', 'Sweden', 'Thailand', 'Taiwan',\n",
       "       'United States', 'South Africa', 'Philippines', 'Norway', 'Peru',\n",
       "       'Turkey', 'Egypt', 'Colombia', 'Costa Rica', 'Sri Lanka',\n",
       "       'Pakistan', 'Saudi Arabia', 'Ukraine', 'Uruguay', 'UAE', 'India',\n",
       "       'Vietnam', 'United Arab Emirates', 'Azerbaijan', 'Bahrain',\n",
       "       'Guatemala', 'Honduras', 'Croatia', 'Jordan', 'Kuwait', 'Lebanon',\n",
       "       'Moldova', 'Nicaragua', 'Oman', 'Qatar', 'Romania'], dtype=object)"
      ]
     },
     "execution_count": 20,
     "metadata": {},
     "output_type": "execute_result"
    }
   ],
   "source": [
    "country"
   ]
  },
  {
   "cell_type": "code",
   "execution_count": 21,
   "id": "2c2ff6ac-675b-45f2-b1bd-1203e9307e08",
   "metadata": {},
   "outputs": [
    {
     "data": {
      "text/plain": [
       "57"
      ]
     },
     "execution_count": 21,
     "metadata": {},
     "output_type": "execute_result"
    }
   ],
   "source": [
    "len(country)"
   ]
  },
  {
   "cell_type": "code",
   "execution_count": 33,
   "id": "6e6e9366-43b7-4ed5-9f97-c58cea4874d2",
   "metadata": {},
   "outputs": [
    {
     "data": {
      "text/plain": [
       "0"
      ]
     },
     "execution_count": 33,
     "metadata": {},
     "output_type": "execute_result"
    }
   ],
   "source": [
    "[].isna().sum()"
   ]
  },
  {
   "cell_type": "code",
   "execution_count": 88,
   "id": "bedaed9e-4529-41ee-8c2b-d35d0b3c2b0a",
   "metadata": {},
   "outputs": [],
   "source": [
    "occur = bmprice.groupby(['currency_code']).size()\n",
    "occur = occur.sort_values()"
   ]
  },
  {
   "cell_type": "code",
   "execution_count": 89,
   "id": "20b165ee-74d9-4385-b9ef-99e458aa22bb",
   "metadata": {},
   "outputs": [
    {
     "data": {
      "text/plain": [
       "56"
      ]
     },
     "execution_count": 89,
     "metadata": {},
     "output_type": "execute_result"
    }
   ],
   "source": [
    "len(occur)"
   ]
  },
  {
   "cell_type": "code",
   "execution_count": 90,
   "id": "d4d12c36-cd0c-469c-a9eb-e070dfb1ca2a",
   "metadata": {
    "tags": []
   },
   "outputs": [
    {
     "data": {
      "text/plain": [
       "currency_code\n",
       "GTQ     4\n",
       "OMR     4\n",
       "MDL     4\n",
       "AZN     4\n",
       "BHD     4\n",
       "LBP     4\n",
       "KWD     4\n",
       "JOD     4\n",
       "HRK     4\n",
       "HNL     4\n",
       "QAR     4\n",
       "NIO     4\n",
       "RON     4\n",
       "VND    12\n",
       "INR    18\n",
       "ILS    23\n",
       "AED    26\n",
       "CRC    26\n",
       "SAR    27\n",
       "UYU    27\n",
       "PKR    27\n",
       "COP    27\n",
       "LKR    27\n",
       "UAH    27\n",
       "NOK    28\n",
       "PEN    29\n",
       "EGP    29\n",
       "TRY    30\n",
       "PHP    31\n",
       "TWD    32\n",
       "THB    32\n",
       "SGD    32\n",
       "USD    32\n",
       "PLN    32\n",
       "SEK    32\n",
       "RUB    32\n",
       "KRW    32\n",
       "MYR    32\n",
       "ARS    32\n",
       "AUD    32\n",
       "BRL    32\n",
       "CAD    32\n",
       "CHF    32\n",
       "CLP    32\n",
       "CNY    32\n",
       "NZD    32\n",
       "CZK    32\n",
       "EUR    32\n",
       "GBP    32\n",
       "HKD    32\n",
       "HUF    32\n",
       "IDR    32\n",
       "JPY    32\n",
       "MXN    32\n",
       "DKK    32\n",
       "ZAR    32\n",
       "dtype: int64"
      ]
     },
     "execution_count": 90,
     "metadata": {},
     "output_type": "execute_result"
    }
   ],
   "source": [
    "occur.head(56)"
   ]
  },
  {
   "cell_type": "code",
   "execution_count": 91,
   "id": "2b795598-3c19-4b83-ba7b-0bd347431460",
   "metadata": {},
   "outputs": [],
   "source": [
    "remove_currency = occur.drop(occur.index[16:])"
   ]
  },
  {
   "cell_type": "code",
   "execution_count": 92,
   "id": "06515e4f-04ef-4167-ab97-fb9763e8cf8a",
   "metadata": {},
   "outputs": [
    {
     "data": {
      "text/plain": [
       "currency_code\n",
       "GTQ     4\n",
       "OMR     4\n",
       "MDL     4\n",
       "AZN     4\n",
       "BHD     4\n",
       "LBP     4\n",
       "KWD     4\n",
       "JOD     4\n",
       "HRK     4\n",
       "HNL     4\n",
       "QAR     4\n",
       "NIO     4\n",
       "RON     4\n",
       "VND    12\n",
       "INR    18\n",
       "ILS    23\n",
       "dtype: int64"
      ]
     },
     "execution_count": 92,
     "metadata": {},
     "output_type": "execute_result"
    }
   ],
   "source": [
    "remove_currency"
   ]
  },
  {
   "cell_type": "code",
   "execution_count": 94,
   "id": "d4881010-a246-4c5c-8c4c-dd638965f88c",
   "metadata": {},
   "outputs": [
    {
     "data": {
      "text/plain": [
       "16"
      ]
     },
     "execution_count": 94,
     "metadata": {},
     "output_type": "execute_result"
    }
   ],
   "source": [
    "len(remove_currency)"
   ]
  },
  {
   "cell_type": "code",
   "execution_count": null,
   "id": "f6361927-a3ee-432e-901a-f8cdc5539b87",
   "metadata": {},
   "outputs": [],
   "source": []
  }
 ],
 "metadata": {
  "kernelspec": {
   "display_name": "Python 3 (ipykernel)",
   "language": "python",
   "name": "python3"
  },
  "language_info": {
   "codemirror_mode": {
    "name": "ipython",
    "version": 3
   },
   "file_extension": ".py",
   "mimetype": "text/x-python",
   "name": "python",
   "nbconvert_exporter": "python",
   "pygments_lexer": "ipython3",
   "version": "3.8.13"
  }
 },
 "nbformat": 4,
 "nbformat_minor": 5
}
