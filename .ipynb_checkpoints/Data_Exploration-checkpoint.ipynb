{
 "cells": [
  {
   "cell_type": "markdown",
   "id": "e2c7b437-b6ae-4a58-aceb-6bcd29df2a1d",
   "metadata": {},
   "source": [
    "# BigMac Prices over the year\n",
    "### see how external forces effected the price of the BigMac, use as a directional factor for food price inflation"
   ]
  },
  {
   "cell_type": "markdown",
   "id": "c80af6da-d97c-43cb-9f0b-7d8887258e9d",
   "metadata": {},
   "source": [
    "- price of beef\n",
    "- price of wheat (bread for buns)\n",
    "- price of condiments\n",
    "\n",
    "- use bigmac prices in comparison to inflation in respective countries - is it a good signifying factor\n",
    "- are some countries more resilient to raise in food prices\n",
    "- are higher inflation in some countries effecting the rise in food of other countries "
   ]
  },
  {
   "cell_type": "code",
   "execution_count": null,
   "id": "1b90b608-bd66-4330-960f-e48992dfca44",
   "metadata": {},
   "outputs": [],
   "source": [
    "import pandas as pd\n",
    "import "
   ]
  },
  {
   "cell_type": "code",
   "execution_count": null,
   "id": "c582cd28-4cf5-4f24-ab41-53f546869e1f",
   "metadata": {},
   "outputs": [],
   "source": [
    "df = pd.read_csv(r'BigmacPrice.csv.csv')\n",
    "print(df)"
   ]
  }
 ],
 "metadata": {
  "kernelspec": {
   "display_name": "Python 3 (ipykernel)",
   "language": "python",
   "name": "python3"
  },
  "language_info": {
   "codemirror_mode": {
    "name": "ipython",
    "version": 3
   },
   "file_extension": ".py",
   "mimetype": "text/x-python",
   "name": "python",
   "nbconvert_exporter": "python",
   "pygments_lexer": "ipython3",
   "version": "3.8.13"
  }
 },
 "nbformat": 4,
 "nbformat_minor": 5
}
